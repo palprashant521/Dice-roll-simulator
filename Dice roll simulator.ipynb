{
 "cells": [
  {
   "cell_type": "markdown",
   "id": "b7e2b215",
   "metadata": {},
   "source": [
    "# Dice roll simulator"
   ]
  },
  {
   "cell_type": "code",
   "execution_count": 1,
   "id": "da5afc81",
   "metadata": {
    "scrolled": true
   },
   "outputs": [
    {
     "name": "stdout",
     "output_type": "stream",
     "text": [
      "Enter your name: Prashant\n",
      "Ok Prashant! Let's throw the dice.\n",
      "\n",
      "\n",
      "[o  ]\n",
      "[   ]\n",
      "[  o]\n",
      "Do you want to play again? y\n",
      "\n",
      "\n",
      "Enter your name: Prashant\n",
      "Ok Prashant! Let's throw the dice.\n",
      "\n",
      "\n",
      "[o o]\n",
      "[   ]\n",
      "[o o]\n",
      "Do you want to play again? y\n",
      "\n",
      "\n",
      "Enter your name: Prashant\n",
      "Ok Prashant! Let's throw the dice.\n",
      "\n",
      "\n",
      "[o  ]\n",
      "[   ]\n",
      "[  o]\n",
      "Do you want to play again? n\n",
      "\n",
      "\n"
     ]
    }
   ],
   "source": [
    "import random\n",
    "\n",
    "x='y'\n",
    "while x=='y':\n",
    "    \n",
    "    k = input(\"Enter your name: \")\n",
    "\n",
    "    print(\"Ok {}! Let's throw the dice.\".format(k))\n",
    "    print('\\n')\n",
    "\n",
    "    dice = random.randint(1,6)\n",
    "\n",
    "    if dice ==1:\n",
    "        print('[   ]')\n",
    "        print('[ o ]')\n",
    "        print('[   ]')\n",
    "    \n",
    "    elif dice==2:\n",
    "        print('[o  ]')\n",
    "        print('[   ]')\n",
    "        print('[  o]')\n",
    "    \n",
    "    elif dice==3:\n",
    "        print('[o  ]')\n",
    "        print('[ o ]')\n",
    "        print('[  o]')\n",
    "    \n",
    "    elif dice==4:\n",
    "        print('[o o]')\n",
    "        print('[   ]')\n",
    "        print('[o o]')\n",
    "    \n",
    "    elif dice==5:\n",
    "        print('[o o]')\n",
    "        print('[ o ]')\n",
    "        print('[o o]')\n",
    "    \n",
    "    elif dice==6:\n",
    "        print('[ooo]')\n",
    "        print('[ooo]')\n",
    "        print('[ooo]')\n",
    "        \n",
    "    x = input(\"Do you want to play again? \")\n",
    "    print('\\n')"
   ]
  },
  {
   "cell_type": "code",
   "execution_count": 2,
   "id": "40427c06",
   "metadata": {},
   "outputs": [],
   "source": [
    "# other code"
   ]
  },
  {
   "cell_type": "code",
   "execution_count": 3,
   "id": "bc6de81c",
   "metadata": {},
   "outputs": [
    {
     "name": "stdout",
     "output_type": "stream",
     "text": [
      "Enter your name: Prashant\n",
      "Are you ready to through the dice(y/n): y\n",
      "The number on the dice is: \n",
      "2\n",
      "Do you want to play further? (y/n) y\n",
      "\n",
      "\n",
      "Enter your name: Prashant\n",
      "Are you ready to through the dice(y/n): y\n",
      "The number on the dice is: \n",
      "4\n",
      "Do you want to play further? (y/n) n\n",
      "\n",
      "\n"
     ]
    }
   ],
   "source": [
    "import random\n",
    "\n",
    "x = 'y'\n",
    "\n",
    "while x=='y' or x=='Y':\n",
    "    \n",
    "\n",
    "    dice = random.randint(1,6)\n",
    "\n",
    "    k = input(\"Enter your name: \")\n",
    "\n",
    "    p = input(\"Are you ready to through the dice(y/n): \")\n",
    "\n",
    "    if p=='y' or p=='Y':\n",
    "        print(\"The number on the dice is: \")\n",
    "        print(dice)\n",
    "    x=input(\"Do you want to play further? (y/n) \")\n",
    "    print('\\n')"
   ]
  },
  {
   "cell_type": "code",
   "execution_count": null,
   "id": "de89036c",
   "metadata": {},
   "outputs": [],
   "source": []
  },
  {
   "cell_type": "code",
   "execution_count": null,
   "id": "fb89e637",
   "metadata": {},
   "outputs": [],
   "source": []
  }
 ],
 "metadata": {
  "kernelspec": {
   "display_name": "Python 3",
   "language": "python",
   "name": "python3"
  },
  "language_info": {
   "codemirror_mode": {
    "name": "ipython",
    "version": 3
   },
   "file_extension": ".py",
   "mimetype": "text/x-python",
   "name": "python",
   "nbconvert_exporter": "python",
   "pygments_lexer": "ipython3",
   "version": "3.8.8"
  }
 },
 "nbformat": 4,
 "nbformat_minor": 5
}
